{
 "cells": [
  {
   "cell_type": "markdown",
   "id": "5dd989bc",
   "metadata": {
    "id": "5dd989bc"
   },
   "source": [
    "# Project\n",
    "\n",
    "## CUSTOMER SEGMENTATION WITH RFM MODEL AND K-MEANS CLUSTERING ALGORITHM BY USING PYSPARK IN PYTHON\n",
    "\n",
    "The primary objective of this project is to facilitate the development of customer-centric strategies through the integration of Customer Relationship Management (CRM) with Analytics. The method used in this project are RFM (Recency, Frequency, Monetary) Analysis and K-Means Machine Learning model to classify so that businesses can gain deeper insights into customer behavior and preferences. Since the dataset is big, we are going to use Pyspark to handle and analyze the data in order to achieve best results.\n",
    "\n",
    "\n"
   ]
  },
  {
   "cell_type": "markdown",
   "id": "f72f9706",
   "metadata": {
    "id": "f72f9706"
   },
   "source": [
    "# I. Project overview\n"
   ]
  },
  {
   "cell_type": "markdown",
   "id": "7d6bde1f",
   "metadata": {
    "id": "7d6bde1f"
   },
   "source": [
    "## 1. Research objectives\n"
   ]
  },
  {
   "cell_type": "markdown",
   "id": "1eb0b8df",
   "metadata": {
    "id": "1eb0b8df"
   },
   "source": [
    "   The purpose of the project is to segment customers in business – an important element indispensable in the business and marketing strategy of any business. It is especially important in the context of an increasingly competitive market and the diversity of customer needs. The goal of this segmentation is to create a deep understanding of the needs, wants, and behaviors of each customer group so that they can best be served.\n",
    "\n",
    "   Customer segmentation is the process by which a business divides its customers into smaller groups based on certain similarities: interests, wants, needs, personality, age, and many other factors. The key to effective segmentation is to divide customers into groups and make predictions about their value to the business. Then, target each customer group with different strategies to extract maximum value from customers with high and low profitability.\n",
    "\n",
    "   Effective customer segmentation will bring a lot of benefits to businesses. To begin with, it helps to optimize the marketing strategy by categorizing customers into groups, businesses can create separate marketing strategies for each segment. This helps to focus resources and resources on the most effective advertising, marketing, and promotion campaigns. Moreover, it creates personalized experiences because understanding each segment allows businesses to create products, services, and experiences based on their specific needs and improve quality for the better. Customers will feel more satisfied and interested in the product when receiving personalization. In particular, it gives businesses the opportunity to build long-term and loyal relationships with customers. When customers feel they are understood and responsive, they will tend to come back and support the business in the future. As a result, businesses will grow revenue, and profit and improve their brand reputation much more.\n"
   ]
  },
  {
   "cell_type": "markdown",
   "id": "dcba99e0",
   "metadata": {
    "id": "dcba99e0"
   },
   "source": [
    "## 2. Description of project\n"
   ]
  },
  {
   "cell_type": "markdown",
   "id": "90a0532c",
   "metadata": {
    "id": "90a0532c"
   },
   "source": [
    "In the project, we use a transnational data set that contains all the transactions occurring between 01/12/2010 and 09/12/2011 for a UK-based and registered non-store online retail. Based on the data set, we aim to perform RFM (Recency, Frequency, and Monetary Value) analysis on the data to be able to segment the customers based on their purchasing patterns and behavior. Data scientists usually build unsupervised machine learning algorithms such as K-Means clustering or hierarchical clustering to perform customer segmentation. These models are great at identifying similar patterns between user groups that often go unnoticed by the human eye. So, using K-Means can help us segment our customers into many groups, then we can have suitable services for them.\n",
    "\n",
    "The reason we chose this method is because many previous studies have used it and achieved good results. The article by Edwin Omol, Dorcas Onyango, Lucy Mburu (2024) explores the application of the K-means clustering algorithm for customer segmentation in grocery stores within the unique context of Kenya. The application of K-means clustering for customer segmentation in grocery stores in Kenya yielded valuable insights into the distinct customer segments and their preferences. The results indicate that there is not a significant difference between male and female customers, it is also observed that customers in the age range of 20-40 tend to spend more compared to other age group.The findings of this study have significant implications for grocery stores in Kenya, enabling them to enhance their marketing strategies and improve overall customer experiences. The application of K-means clustering facilitated the creation of targeted approaches tailored to the preferences of different customer segments. By understanding the distinct needs and behaviors of each cluster, store owners and marketers can develop more effective marketing campaigns and personalized promotions. Furthermore, the study of MA Syakur, BK Khotimah, EMS Rochman, BD Satoto (2018) had also suggested using K-Means Clustering Method and Elbow Method for identification of the best customer profile. The results obtained from the process in determining the best number of clusters with elbow and K-Means methods that the determination of the best number of clusters can produce the same number of clusters K on the amount of different data. The result of determining the best number of clusters with elbow method will be the default for characteristic process based on case study.\n",
    "\n"
   ]
  },
  {
   "cell_type": "markdown",
   "id": "40de8fea",
   "metadata": {
    "id": "40de8fea"
   },
   "source": [
    "# II. Project methods"
   ]
  },
  {
   "cell_type": "markdown",
   "id": "5a6f326d",
   "metadata": {
    "id": "5a6f326d"
   },
   "source": [
    "## 1. RFM model"
   ]
  },
  {
   "cell_type": "markdown",
   "id": "5ce3aef7",
   "metadata": {
    "id": "5ce3aef7"
   },
   "source": [
    "### 1.1. Definition of RFM model"
   ]
  },
  {
   "cell_type": "markdown",
   "id": "2c790489",
   "metadata": {
    "id": "2c790489"
   },
   "source": [
    "RFM analysis is a marketing technique used to quantitatively rank and group customers based on the recency, frequency and monetary total of their recent transactions to identify the best customers and perform targeted marketing campaigns. The system assigns each customer numerical scores based on these factors to provide an objective analysis. RFM analysis is based on the marketing adage that \"80% of your business comes from 20% of your customers.\"\n",
    "\n",
    "RFM analysis ranks each customer on the following factors:\n",
    "- Recency: How recent was the customer's last purchase? Customers who recently made a purchase will still have the product on their mind and are more likely to purchase or use the product again. Businesses often measure recency in days. But, depending on the product, they may measure it in years, weeks or even hours.\n",
    "- Frequency: How often did this customer make a purchase in a given period? Customers who purchased once are often more likely to purchase again. Additionally, first time customers may be good targets for follow-up advertising to convert them into more frequent customers.\n",
    "- Monetary: How much money did the customer spend in a given period? Customers who spend a lot of money are more likely to spend money in the future and have a high value to a business.\n"
   ]
  },
  {
   "cell_type": "markdown",
   "id": "e7869560",
   "metadata": {
    "id": "e7869560"
   },
   "source": [
    "### 1.2. The importance of RFM analysis\n"
   ]
  },
  {
   "cell_type": "markdown",
   "id": "1a593203",
   "metadata": {
    "id": "1a593203"
   },
   "source": [
    "Customer segmentation based on RFM can help you evaluate the customer journey based on many factors, from many perspectives. RFM analysis can help answer a number of questions such as:\n",
    "\n",
    "- Who are the customers who spend the most and are most loyal?\n",
    "- Which customers are most likely to leave the company?\n",
    "- Who are the new customers and how can they increase the likelihood of recurring purchases?\n",
    "- Which customers could potentially convert to higher spending customers?\n",
    "- Which customers have left the brand and are least likely to return?\n",
    "- Which customers need to be cared for and retained before becoming churn customers?\n",
    "- How do different customer segments require different care, incentives and marketing activities?\n",
    "\n",
    "RFM analysis helps you build different messages, campaigns and incentive programs for each customer group, based on their consumer behavior and relationship with the company. Each of these RFM metrics has been proven to be effective in predicting future customer behavior and increasing revenue. Customers who have made purchases in the recent past are more likely to do so in the near future. Based on this, marketing activities can increase response rates, increase customer retention (retention rate), customer satisfaction and customer lifetime value (CLTV).\n",
    "\n",
    "In short, RFM analysis can help you achieve several benefits. First, it can help increase email marketing effectiveness and improve customer lifetime value. Secondly, it can help with customer segmentation for new product introductions. Loyal customer groups are highly likely to receive, use and respond positively to the company's new products. Thirdly, RFM would help increase loyalty and increase interaction with customers and reduce the rate of customers leaving your business. Finally, the methods would help optimize marketing costs and improve the effectiveness of remarketing/retargeting campaigns.\n"
   ]
  },
  {
   "cell_type": "markdown",
   "id": "dcdcff77",
   "metadata": {
    "id": "dcdcff77"
   },
   "source": [
    "### 1.3. How RFM analysis work?\n"
   ]
  },
  {
   "cell_type": "markdown",
   "id": "e98d8f33",
   "metadata": {
    "id": "e98d8f33"
   },
   "source": [
    "RFM analysis scores customers on each of the three main factors. Generally, a score from 1 to 5 is given, with 5 being the highest. Various implementations of an RFM analysis system may use slightly different values or scaling, however.\n",
    "\n",
    "The collection of three values for each customer is called an RFM cell. In a simple system, organizations average these values together, then sort customers from highest to lowest to find the most valuable customers. Some businesses, instead of simply averaging the three values, weigh the values differently.\n",
    "\n",
    "For example, a car dealership may recognize that an average customer is highly unlikely to buy several new cars in a timeframe of just a few years. But a customer who does buy several cars -- a high-frequency customer -- should be highly sought after. So, the dealership may choose to weigh the value of the frequency score accordingly.\n"
   ]
  },
  {
   "cell_type": "markdown",
   "id": "21abd386",
   "metadata": {
    "id": "21abd386"
   },
   "source": [
    "## 2. K-Means clustering algorithm\n"
   ]
  },
  {
   "cell_type": "markdown",
   "id": "2fb6869a",
   "metadata": {
    "id": "2fb6869a"
   },
   "source": [
    "### 2.1. K-means clustering\n"
   ]
  },
  {
   "cell_type": "markdown",
   "id": "821b41f1",
   "metadata": {
    "id": "821b41f1"
   },
   "source": [
    "The K-means method was stated by MacQueen (1967) and Lloyd (1982). In the K-means clustering algorithm, we do not know the label of each data point. The goal is to divide data into different clusters so that data in the same cluster have similar properties. Similar objects are grouped in the same cluster using iterative refinement with the goal of minimizing the loss function computed by the sum of squared errors between each cluster centroid and the elements in the cluster.\n",
    "\n",
    " K-means clustering divides elements into clusters, each element is assigned to the cluster with the center (average of the elements) closest to it. In each refinement, the goal is to minimize the sum of squared distances:\n"
   ]
  },
  {
   "cell_type": "markdown",
   "id": "d1abf46f",
   "metadata": {
    "id": "d1abf46f"
   },
   "source": [
    "The stop condition for the algorithm: When the centers do not change in 2 consecutive iterations. However, achieving a perfect result is very difficult and very time-consuming, so people will usually stop the algorithm when an approximate and acceptable result is achieved.\n"
   ]
  },
  {
   "cell_type": "markdown",
   "id": "ad6de62f",
   "metadata": {
    "id": "ad6de62f"
   },
   "source": [
    "### 2.2. Algorithm implementation steps"
   ]
  },
  {
   "cell_type": "markdown",
   "id": "dc5ead6a",
   "metadata": {
    "id": "dc5ead6a"
   },
   "source": [
    "Step 1: Find k initial cluster centers (can be chosen by randomly selecting k elements).\n",
    "\n",
    "Step 2: Calculate the distance of each element to the centers. The element will be assigned to the cluster with the center closest to it.\n",
    "\n",
    "Step 3: Recalculate the k cluster centers by averaging all the elements assigned to each cluster.\n",
    "\n",
    "Step 4:  Repeat steps 2 and 3 until the cluster centers no longer change.\n",
    "\n",
    "When using K-means, there are two important factors to consider: calculating the distance between points to the centroid and the number of centroids.\n"
   ]
  },
  {
   "cell_type": "markdown",
   "id": "984cdcea",
   "metadata": {
    "id": "984cdcea"
   },
   "source": [
    "### 2.3. Calculating the distance of each point to the centroids\n"
   ]
  },
  {
   "cell_type": "markdown",
   "id": "e6232883",
   "metadata": {
    "id": "e6232883"
   },
   "source": [
    "a. Determine the label for each point based on the Ci data on the distance to each cluster center:\n"
   ]
  },
  {
   "cell_type": "markdown",
   "id": "aa2ba686",
   "metadata": {
    "id": "aa2ba686"
   },
   "source": [
    "b. Recalculate the center for each cluster according to the average of all data points in a cluster:\n",
    "\n"
   ]
  },
  {
   "cell_type": "markdown",
   "id": "5cd15797",
   "metadata": {
    "id": "5cd15797"
   },
   "source": [
    "### 2.4. Elbow method in deciding K\n"
   ]
  },
  {
   "cell_type": "markdown",
   "id": "7a3a1cff",
   "metadata": {
    "id": "7a3a1cff"
   },
   "source": [
    "The Elbow method is an exclusive method in deciding the numbers of centroids should be made when using the k-means method. In the k-mean method, it’s important to decide the number of k centroids before starting the method. The Elbow method is a way to help us choose the appropriate number of clusters based on the visualization graph by looking at the decline of the deformation function and selecting the elbow point.\n",
    "\n",
    "The elbow point is the point where the decay rate of the deformation function will change the most. That is, from this position on, increasing the number of clusters will not help the deformation function decrease significantly. If the algorithm divides according to the number of clusters at this position, it will achieve the most general clustering properties without encountering overfitting phenomena.\n"
   ]
  },
  {
   "cell_type": "markdown",
   "id": "c883bc74",
   "metadata": {
    "id": "c883bc74"
   },
   "source": [
    "In which |Si | is the number of observations in cluster i and d (x,y) is the distance between observations x and y. The \"optimal\" number of clusters is the k value such that when we increase the number of clusters, the explanatory efficiency of clustering does not improve much.\n",
    "\n"
   ]
  },
  {
   "cell_type": "markdown",
   "id": "4e915e67",
   "metadata": {
    "id": "4e915e67"
   },
   "source": [
    "# II. Data Analysis"
   ]
  },
  {
   "cell_type": "markdown",
   "id": "17fb22a3",
   "metadata": {
    "id": "17fb22a3"
   },
   "source": [
    "## 1. Overview of the dataset"
   ]
  },
  {
   "cell_type": "markdown",
   "id": "6433fb44",
   "metadata": {
    "id": "6433fb44"
   },
   "source": [
    "This is a transnational data set which contains all the transactions occurring between 01/12/2010 and 09/12/2011 for a UK-based and registered non-store online retail.The company mainly sells unique all-occasion gifts. Many customers of the company are wholesalers.\n"
   ]
  },
  {
   "cell_type": "markdown",
   "id": "d2edd1cd",
   "metadata": {
    "id": "d2edd1cd"
   },
   "source": [
    "Variables Description:\n",
    "This section provides a detailed description of the variables included in this E-commerce dataset:\n",
    "\n",
    "- InvoiceNo: Each transaction is uniquely identified by its invoice number. Invoice numbers prefixed with \"C\" denote refund transactions.\n",
    "- StockCode: An exclusive code assigned to each item in the inventory.\n",
    "- Description: The descriptive name of the item being purchased.\n",
    "- Quantity: The quantity of items included in the transaction.\n",
    "- InvoiceDate: Date and time when the purchase transaction occurred.\n",
    "- UnitPrice: The price of a single item, denominated in Sterling currency.\n",
    "- CustomerID: A unique identifier assigned to each customer.\n",
    "- Country: The country of residence for the customer."
   ]
  },
  {
   "cell_type": "markdown",
   "id": "11ed8dea",
   "metadata": {
    "id": "11ed8dea"
   },
   "source": [
    "## 2. Creating a SparkSession & DataFrame:"
   ]
  },
  {
   "cell_type": "markdown",
   "id": "155c6ab7",
   "metadata": {
    "id": "155c6ab7"
   },
   "source": [
    "A SparkSession is an entry point into all functionality in Spark, and is required if you want to build a dataframe in PySpark."
   ]
  },
  {
   "cell_type": "code",
   "execution_count": 1,
   "id": "ed8b9343-fa24-49f1-9fbf-47845873db25",
   "metadata": {
    "id": "ed8b9343-fa24-49f1-9fbf-47845873db25",
    "outputId": "fb999ebd-6be4-4b09-d32b-784ff6cbd2be"
   },
   "outputs": [
    {
     "name": "stdout",
     "output_type": "stream",
     "text": [
      "Requirement already satisfied: pyspark in d:\\anaconda\\lib\\site-packages (3.5.1)\n",
      "Requirement already satisfied: py4j==0.10.9.7 in d:\\anaconda\\lib\\site-packages (from pyspark) (0.10.9.7)\n",
      "Note: you may need to restart the kernel to use updated packages.\n"
     ]
    }
   ],
   "source": [
    "pip install pyspark"
   ]
  },
  {
   "cell_type": "code",
   "execution_count": 2,
   "id": "8807b865-2e44-4526-aace-214534557c25",
   "metadata": {
    "id": "8807b865-2e44-4526-aace-214534557c25",
    "outputId": "8ce09c61-8e7f-4ef8-cd3a-8c9d7cad9b3e"
   },
   "outputs": [
    {
     "data": {
      "text/html": [
       "\n",
       "            <div>\n",
       "                <p><b>SparkSession - in-memory</b></p>\n",
       "                \n",
       "        <div>\n",
       "            <p><b>SparkContext</b></p>\n",
       "\n",
       "            <p><a href=\"http://NL:4040\">Spark UI</a></p>\n",
       "\n",
       "            <dl>\n",
       "              <dt>Version</dt>\n",
       "                <dd><code>v3.5.1</code></dd>\n",
       "              <dt>Master</dt>\n",
       "                <dd><code>local[*]</code></dd>\n",
       "              <dt>AppName</dt>\n",
       "                <dd><code>PySpark</code></dd>\n",
       "            </dl>\n",
       "        </div>\n",
       "        \n",
       "            </div>\n",
       "        "
      ],
      "text/plain": [
       "<pyspark.sql.session.SparkSession at 0x14f211d0d10>"
      ]
     },
     "execution_count": 2,
     "metadata": {},
     "output_type": "execute_result"
    }
   ],
   "source": [
    "import numpy as np\n",
    "import pandas as pd\n",
    "import matplotlib.pyplot as plt\n",
    "%matplotlib inline\n",
    "\n",
    "import pyspark\n",
    "from pyspark.sql import SparkSession\n",
    "\n",
    "spark = SparkSession.builder.appName(\"PySpark\").getOrCreate()\n",
    "spark"
   ]
  },
  {
   "cell_type": "code",
   "execution_count": 3,
   "id": "a7f5faf4-d237-4b44-962a-7a0a3302f2e6",
   "metadata": {
    "id": "a7f5faf4-d237-4b44-962a-7a0a3302f2e6"
   },
   "outputs": [],
   "source": [
    "from pyspark.sql import functions as F\n",
    "from pyspark.sql.types import *\n",
    "from pyspark.sql.window import Window"
   ]
  },
  {
   "cell_type": "code",
   "execution_count": 4,
   "id": "5223d807-28e6-4a54-acf9-32cd56e27755",
   "metadata": {
    "id": "5223d807-28e6-4a54-acf9-32cd56e27755"
   },
   "outputs": [],
   "source": [
    "def printdf(df, l=5):\n",
    "    return df.limit(l).toPandas()\n",
    "\n",
    "def nullcount(df):\n",
    "    return {col: df.filter(df[col].isNull()).count() for col in df.columns}\n",
    "\n",
    "def shape(df):\n",
    "    print((df.count(), len(df.columns)))"
   ]
  },
  {
   "cell_type": "code",
   "execution_count": 8,
   "id": "ee3e5a74-7c24-483d-a16b-f224e0f577ca",
   "metadata": {
    "id": "ee3e5a74-7c24-483d-a16b-f224e0f577ca",
    "outputId": "98987dda-9163-45b8-f6a3-59ab9da3960a"
   },
   "outputs": [
    {
     "name": "stdout",
     "output_type": "stream",
     "text": [
      "Dataframe dimensions: (541909, 8)\n"
     ]
    },
    {
     "data": {
      "text/html": [
       "<div>\n",
       "<style scoped>\n",
       "    .dataframe tbody tr th:only-of-type {\n",
       "        vertical-align: middle;\n",
       "    }\n",
       "\n",
       "    .dataframe tbody tr th {\n",
       "        vertical-align: top;\n",
       "    }\n",
       "\n",
       "    .dataframe thead th {\n",
       "        text-align: right;\n",
       "    }\n",
       "</style>\n",
       "<table border=\"1\" class=\"dataframe\">\n",
       "  <thead>\n",
       "    <tr style=\"text-align: right;\">\n",
       "      <th></th>\n",
       "      <th>InvoiceNo</th>\n",
       "      <th>StockCode</th>\n",
       "      <th>Description</th>\n",
       "      <th>Quantity</th>\n",
       "      <th>InvoiceDate</th>\n",
       "      <th>UnitPrice</th>\n",
       "      <th>CustomerID</th>\n",
       "      <th>Country</th>\n",
       "    </tr>\n",
       "  </thead>\n",
       "  <tbody>\n",
       "    <tr>\n",
       "      <th>0</th>\n",
       "      <td>536365</td>\n",
       "      <td>85123A</td>\n",
       "      <td>WHITE HANGING HEART T-LIGHT HOLDER</td>\n",
       "      <td>6</td>\n",
       "      <td>12/1/2010 8:26</td>\n",
       "      <td>2.55</td>\n",
       "      <td>17850</td>\n",
       "      <td>United Kingdom</td>\n",
       "    </tr>\n",
       "    <tr>\n",
       "      <th>1</th>\n",
       "      <td>536365</td>\n",
       "      <td>71053</td>\n",
       "      <td>WHITE METAL LANTERN</td>\n",
       "      <td>6</td>\n",
       "      <td>12/1/2010 8:26</td>\n",
       "      <td>3.39</td>\n",
       "      <td>17850</td>\n",
       "      <td>United Kingdom</td>\n",
       "    </tr>\n",
       "    <tr>\n",
       "      <th>2</th>\n",
       "      <td>536365</td>\n",
       "      <td>84406B</td>\n",
       "      <td>CREAM CUPID HEARTS COAT HANGER</td>\n",
       "      <td>8</td>\n",
       "      <td>12/1/2010 8:26</td>\n",
       "      <td>2.75</td>\n",
       "      <td>17850</td>\n",
       "      <td>United Kingdom</td>\n",
       "    </tr>\n",
       "    <tr>\n",
       "      <th>3</th>\n",
       "      <td>536365</td>\n",
       "      <td>84029G</td>\n",
       "      <td>KNITTED UNION FLAG HOT WATER BOTTLE</td>\n",
       "      <td>6</td>\n",
       "      <td>12/1/2010 8:26</td>\n",
       "      <td>3.39</td>\n",
       "      <td>17850</td>\n",
       "      <td>United Kingdom</td>\n",
       "    </tr>\n",
       "    <tr>\n",
       "      <th>4</th>\n",
       "      <td>536365</td>\n",
       "      <td>84029E</td>\n",
       "      <td>RED WOOLLY HOTTIE WHITE HEART.</td>\n",
       "      <td>6</td>\n",
       "      <td>12/1/2010 8:26</td>\n",
       "      <td>3.39</td>\n",
       "      <td>17850</td>\n",
       "      <td>United Kingdom</td>\n",
       "    </tr>\n",
       "  </tbody>\n",
       "</table>\n",
       "</div>"
      ],
      "text/plain": [
       "  InvoiceNo StockCode                          Description  Quantity  \\\n",
       "0    536365    85123A   WHITE HANGING HEART T-LIGHT HOLDER         6   \n",
       "1    536365     71053                  WHITE METAL LANTERN         6   \n",
       "2    536365    84406B       CREAM CUPID HEARTS COAT HANGER         8   \n",
       "3    536365    84029G  KNITTED UNION FLAG HOT WATER BOTTLE         6   \n",
       "4    536365    84029E       RED WOOLLY HOTTIE WHITE HEART.         6   \n",
       "\n",
       "      InvoiceDate  UnitPrice  CustomerID         Country  \n",
       "0  12/1/2010 8:26       2.55       17850  United Kingdom  \n",
       "1  12/1/2010 8:26       3.39       17850  United Kingdom  \n",
       "2  12/1/2010 8:26       2.75       17850  United Kingdom  \n",
       "3  12/1/2010 8:26       3.39       17850  United Kingdom  \n",
       "4  12/1/2010 8:26       3.39       17850  United Kingdom  "
      ]
     },
     "execution_count": 8,
     "metadata": {},
     "output_type": "execute_result"
    }
   ],
   "source": [
    "data = spark.read.csv(\"E-commerce.csv\",\n",
    "                      inferSchema=True,\n",
    "                      header=True)\n",
    "print('Dataframe dimensions:', (data.count(), len(data.columns)))\n",
    "printdf(data)"
   ]
  },
  {
   "cell_type": "markdown",
   "id": "1c4f0f6a-12f2-4d59-a6e0-1d3232b48d11",
   "metadata": {
    "id": "1c4f0f6a-12f2-4d59-a6e0-1d3232b48d11"
   },
   "source": [
    "## 3. Data Cleaning & Exploratory Data Analysis"
   ]
  },
  {
   "cell_type": "code",
   "execution_count": 9,
   "id": "8de6915e-8be5-4792-9fa9-afe6825dd9e6",
   "metadata": {
    "id": "8de6915e-8be5-4792-9fa9-afe6825dd9e6",
    "outputId": "0e4ac5bb-1493-4fec-dee2-a2bf586d75ea"
   },
   "outputs": [
    {
     "data": {
      "text/html": [
       "<div>\n",
       "<style scoped>\n",
       "    .dataframe tbody tr th:only-of-type {\n",
       "        vertical-align: middle;\n",
       "    }\n",
       "\n",
       "    .dataframe tbody tr th {\n",
       "        vertical-align: top;\n",
       "    }\n",
       "\n",
       "    .dataframe thead th {\n",
       "        text-align: right;\n",
       "    }\n",
       "</style>\n",
       "<table border=\"1\" class=\"dataframe\">\n",
       "  <thead>\n",
       "    <tr style=\"text-align: right;\">\n",
       "      <th></th>\n",
       "      <th>Quantity</th>\n",
       "      <th>UnitPrice</th>\n",
       "      <th>CustomerID</th>\n",
       "    </tr>\n",
       "  </thead>\n",
       "  <tbody>\n",
       "    <tr>\n",
       "      <th>count</th>\n",
       "      <td>541909.000000</td>\n",
       "      <td>541909.000000</td>\n",
       "      <td>406829.000000</td>\n",
       "    </tr>\n",
       "    <tr>\n",
       "      <th>mean</th>\n",
       "      <td>9.552250</td>\n",
       "      <td>4.611114</td>\n",
       "      <td>15287.690570</td>\n",
       "    </tr>\n",
       "    <tr>\n",
       "      <th>std</th>\n",
       "      <td>218.081158</td>\n",
       "      <td>96.759853</td>\n",
       "      <td>1713.600303</td>\n",
       "    </tr>\n",
       "    <tr>\n",
       "      <th>min</th>\n",
       "      <td>-80995.000000</td>\n",
       "      <td>-11062.060000</td>\n",
       "      <td>12346.000000</td>\n",
       "    </tr>\n",
       "    <tr>\n",
       "      <th>25%</th>\n",
       "      <td>1.000000</td>\n",
       "      <td>1.250000</td>\n",
       "      <td>13953.000000</td>\n",
       "    </tr>\n",
       "    <tr>\n",
       "      <th>50%</th>\n",
       "      <td>3.000000</td>\n",
       "      <td>2.080000</td>\n",
       "      <td>15152.000000</td>\n",
       "    </tr>\n",
       "    <tr>\n",
       "      <th>75%</th>\n",
       "      <td>10.000000</td>\n",
       "      <td>4.130000</td>\n",
       "      <td>16791.000000</td>\n",
       "    </tr>\n",
       "    <tr>\n",
       "      <th>max</th>\n",
       "      <td>80995.000000</td>\n",
       "      <td>38970.000000</td>\n",
       "      <td>18287.000000</td>\n",
       "    </tr>\n",
       "  </tbody>\n",
       "</table>\n",
       "</div>"
      ],
      "text/plain": [
       "            Quantity      UnitPrice     CustomerID\n",
       "count  541909.000000  541909.000000  406829.000000\n",
       "mean        9.552250       4.611114   15287.690570\n",
       "std       218.081158      96.759853    1713.600303\n",
       "min    -80995.000000  -11062.060000   12346.000000\n",
       "25%         1.000000       1.250000   13953.000000\n",
       "50%         3.000000       2.080000   15152.000000\n",
       "75%        10.000000       4.130000   16791.000000\n",
       "max     80995.000000   38970.000000   18287.000000"
      ]
     },
     "execution_count": 9,
     "metadata": {},
     "output_type": "execute_result"
    }
   ],
   "source": [
    "data.toPandas().describe()"
   ]
  },
  {
   "cell_type": "code",
   "execution_count": 10,
   "id": "dec96f9e-97bd-4a1f-b977-f42c0fc74c17",
   "metadata": {
    "id": "dec96f9e-97bd-4a1f-b977-f42c0fc74c17",
    "outputId": "e9a73821-68ad-40f9-e3bf-12daecd26e5b"
   },
   "outputs": [
    {
     "data": {
      "text/plain": [
       "{'InvoiceNo': 0,\n",
       " 'StockCode': 0,\n",
       " 'Description': 1454,\n",
       " 'Quantity': 0,\n",
       " 'InvoiceDate': 0,\n",
       " 'UnitPrice': 0,\n",
       " 'CustomerID': 135080,\n",
       " 'Country': 0}"
      ]
     },
     "execution_count": 10,
     "metadata": {},
     "output_type": "execute_result"
    }
   ],
   "source": [
    "nullcount(data)"
   ]
  },
  {
   "cell_type": "code",
   "execution_count": 11,
   "id": "f2af7114-ead7-48e6-9b3a-9d04d51b2732",
   "metadata": {
    "id": "f2af7114-ead7-48e6-9b3a-9d04d51b2732",
    "outputId": "40e6d83b-08a4-4d18-b2f9-410681dedd6e"
   },
   "outputs": [
    {
     "data": {
      "text/html": [
       "<div>\n",
       "<style scoped>\n",
       "    .dataframe tbody tr th:only-of-type {\n",
       "        vertical-align: middle;\n",
       "    }\n",
       "\n",
       "    .dataframe tbody tr th {\n",
       "        vertical-align: top;\n",
       "    }\n",
       "\n",
       "    .dataframe thead th {\n",
       "        text-align: right;\n",
       "    }\n",
       "</style>\n",
       "<table border=\"1\" class=\"dataframe\">\n",
       "  <thead>\n",
       "    <tr style=\"text-align: right;\">\n",
       "      <th></th>\n",
       "      <th>Country</th>\n",
       "      <th>Count</th>\n",
       "      <th>Total</th>\n",
       "      <th>%</th>\n",
       "    </tr>\n",
       "  </thead>\n",
       "  <tbody>\n",
       "    <tr>\n",
       "      <th>0</th>\n",
       "      <td>United Kingdom</td>\n",
       "      <td>3950</td>\n",
       "      <td>4380</td>\n",
       "      <td>90.182648</td>\n",
       "    </tr>\n",
       "    <tr>\n",
       "      <th>1</th>\n",
       "      <td>Germany</td>\n",
       "      <td>95</td>\n",
       "      <td>4380</td>\n",
       "      <td>2.168950</td>\n",
       "    </tr>\n",
       "    <tr>\n",
       "      <th>2</th>\n",
       "      <td>France</td>\n",
       "      <td>87</td>\n",
       "      <td>4380</td>\n",
       "      <td>1.986301</td>\n",
       "    </tr>\n",
       "    <tr>\n",
       "      <th>3</th>\n",
       "      <td>Spain</td>\n",
       "      <td>31</td>\n",
       "      <td>4380</td>\n",
       "      <td>0.707763</td>\n",
       "    </tr>\n",
       "    <tr>\n",
       "      <th>4</th>\n",
       "      <td>Belgium</td>\n",
       "      <td>25</td>\n",
       "      <td>4380</td>\n",
       "      <td>0.570776</td>\n",
       "    </tr>\n",
       "  </tbody>\n",
       "</table>\n",
       "</div>"
      ],
      "text/plain": [
       "          Country  Count  Total          %\n",
       "0  United Kingdom   3950   4380  90.182648\n",
       "1         Germany     95   4380   2.168950\n",
       "2          France     87   4380   1.986301\n",
       "3           Spain     31   4380   0.707763\n",
       "4         Belgium     25   4380   0.570776"
      ]
     },
     "execution_count": 11,
     "metadata": {},
     "output_type": "execute_result"
    }
   ],
   "source": [
    "#Count number of customerID in each country, then calculate the percentage of each country with the total\n",
    "rtl_data = data[\"Country\", \"CustomerID\"].distinct()\\\n",
    "    .groupBy(\"Country\")\\\n",
    "    .agg(F.count(\"CustomerID\").alias(\"Count\"))\\\n",
    "    .withColumn('Total', F.sum('Count').over(Window.partitionBy()))\\\n",
    "    .withColumn('%', (F.col('Count')/F.col('Total'))*100)\\\n",
    "    .sort(\"Count\", ascending=False)\n",
    "\n",
    "printdf(rtl_data)"
   ]
  },
  {
   "cell_type": "markdown",
   "id": "39ec5483-67b3-492e-add1-7b55f8e43173",
   "metadata": {
    "id": "39ec5483-67b3-492e-add1-7b55f8e43173"
   },
   "source": [
    "We will consider only UK customers as they account for the majority of the data (90%)"
   ]
  },
  {
   "cell_type": "code",
   "execution_count": 12,
   "id": "3793f7cb-b2ad-44c2-bbed-69e1f61cdfa4",
   "metadata": {
    "id": "3793f7cb-b2ad-44c2-bbed-69e1f61cdfa4",
    "outputId": "8e2722ef-8c35-4f85-e061-4e434f65de30"
   },
   "outputs": [
    {
     "data": {
      "text/html": [
       "<div>\n",
       "<style scoped>\n",
       "    .dataframe tbody tr th:only-of-type {\n",
       "        vertical-align: middle;\n",
       "    }\n",
       "\n",
       "    .dataframe tbody tr th {\n",
       "        vertical-align: top;\n",
       "    }\n",
       "\n",
       "    .dataframe thead th {\n",
       "        text-align: right;\n",
       "    }\n",
       "</style>\n",
       "<table border=\"1\" class=\"dataframe\">\n",
       "  <thead>\n",
       "    <tr style=\"text-align: right;\">\n",
       "      <th></th>\n",
       "      <th>InvoiceNo</th>\n",
       "      <th>StockCode</th>\n",
       "      <th>Description</th>\n",
       "      <th>Quantity</th>\n",
       "      <th>InvoiceDate</th>\n",
       "      <th>UnitPrice</th>\n",
       "      <th>CustomerID</th>\n",
       "      <th>Country</th>\n",
       "    </tr>\n",
       "  </thead>\n",
       "  <tbody>\n",
       "    <tr>\n",
       "      <th>0</th>\n",
       "      <td>536365</td>\n",
       "      <td>85123A</td>\n",
       "      <td>WHITE HANGING HEART T-LIGHT HOLDER</td>\n",
       "      <td>6</td>\n",
       "      <td>12/1/2010 8:26</td>\n",
       "      <td>2.55</td>\n",
       "      <td>17850</td>\n",
       "      <td>United Kingdom</td>\n",
       "    </tr>\n",
       "    <tr>\n",
       "      <th>1</th>\n",
       "      <td>536365</td>\n",
       "      <td>71053</td>\n",
       "      <td>WHITE METAL LANTERN</td>\n",
       "      <td>6</td>\n",
       "      <td>12/1/2010 8:26</td>\n",
       "      <td>3.39</td>\n",
       "      <td>17850</td>\n",
       "      <td>United Kingdom</td>\n",
       "    </tr>\n",
       "    <tr>\n",
       "      <th>2</th>\n",
       "      <td>536365</td>\n",
       "      <td>84406B</td>\n",
       "      <td>CREAM CUPID HEARTS COAT HANGER</td>\n",
       "      <td>8</td>\n",
       "      <td>12/1/2010 8:26</td>\n",
       "      <td>2.75</td>\n",
       "      <td>17850</td>\n",
       "      <td>United Kingdom</td>\n",
       "    </tr>\n",
       "    <tr>\n",
       "      <th>3</th>\n",
       "      <td>536365</td>\n",
       "      <td>84029G</td>\n",
       "      <td>KNITTED UNION FLAG HOT WATER BOTTLE</td>\n",
       "      <td>6</td>\n",
       "      <td>12/1/2010 8:26</td>\n",
       "      <td>3.39</td>\n",
       "      <td>17850</td>\n",
       "      <td>United Kingdom</td>\n",
       "    </tr>\n",
       "    <tr>\n",
       "      <th>4</th>\n",
       "      <td>536365</td>\n",
       "      <td>84029E</td>\n",
       "      <td>RED WOOLLY HOTTIE WHITE HEART.</td>\n",
       "      <td>6</td>\n",
       "      <td>12/1/2010 8:26</td>\n",
       "      <td>3.39</td>\n",
       "      <td>17850</td>\n",
       "      <td>United Kingdom</td>\n",
       "    </tr>\n",
       "  </tbody>\n",
       "</table>\n",
       "</div>"
      ],
      "text/plain": [
       "  InvoiceNo StockCode                          Description  Quantity  \\\n",
       "0    536365    85123A   WHITE HANGING HEART T-LIGHT HOLDER         6   \n",
       "1    536365     71053                  WHITE METAL LANTERN         6   \n",
       "2    536365    84406B       CREAM CUPID HEARTS COAT HANGER         8   \n",
       "3    536365    84029G  KNITTED UNION FLAG HOT WATER BOTTLE         6   \n",
       "4    536365    84029E       RED WOOLLY HOTTIE WHITE HEART.         6   \n",
       "\n",
       "      InvoiceDate  UnitPrice  CustomerID         Country  \n",
       "0  12/1/2010 8:26       2.55       17850  United Kingdom  \n",
       "1  12/1/2010 8:26       3.39       17850  United Kingdom  \n",
       "2  12/1/2010 8:26       2.75       17850  United Kingdom  \n",
       "3  12/1/2010 8:26       3.39       17850  United Kingdom  \n",
       "4  12/1/2010 8:26       3.39       17850  United Kingdom  "
      ]
     },
     "execution_count": 12,
     "metadata": {},
     "output_type": "execute_result"
    }
   ],
   "source": [
    "# Consider only customers from UK\n",
    "rtl_data = data.filter(F.col(\"Country\") == \"United Kingdom\")\n",
    "\n",
    "# Filter out null customer ids\n",
    "rtl_data = rtl_data.filter(F.col(\"CustomerID\").isNotNull())\n",
    "\n",
    "rtl_data.toPandas().shape\n",
    "\n",
    "printdf(rtl_data)"
   ]
  },
  {
   "cell_type": "code",
   "execution_count": 13,
   "id": "2e87fad9-97ef-44ef-b3d5-094ddce99967",
   "metadata": {
    "id": "2e87fad9-97ef-44ef-b3d5-094ddce99967",
    "outputId": "87d2ec8a-dc8b-41f3-be2b-3bf056f6c400"
   },
   "outputs": [
    {
     "data": {
      "text/plain": [
       "{'InvoiceNo': 0,\n",
       " 'StockCode': 0,\n",
       " 'Description': 0,\n",
       " 'Quantity': 0,\n",
       " 'InvoiceDate': 0,\n",
       " 'UnitPrice': 0,\n",
       " 'CustomerID': 0,\n",
       " 'Country': 0}"
      ]
     },
     "execution_count": 13,
     "metadata": {},
     "output_type": "execute_result"
    }
   ],
   "source": [
    "nullcount(rtl_data)"
   ]
  },
  {
   "cell_type": "markdown",
   "id": "337c786c-a89a-489b-9172-5289d04777ca",
   "metadata": {
    "id": "337c786c-a89a-489b-9172-5289d04777ca"
   },
   "source": [
    "## 4. Data Pre-processing & Standardization"
   ]
  },
  {
   "cell_type": "markdown",
   "id": "3af9ea38-1cd8-4bd9-895e-664dc9bc4db1",
   "metadata": {
    "id": "3af9ea38-1cd8-4bd9-895e-664dc9bc4db1"
   },
   "source": [
    "After analyzing the dataset and having a better understanding of each data point, the next step is preparing the data to feed into the machine learning algorithm."
   ]
  },
  {
   "cell_type": "code",
   "execution_count": 14,
   "id": "a7db31f0-d67d-4d1f-9655-f0ff3af57490",
   "metadata": {
    "id": "a7db31f0-d67d-4d1f-9655-f0ff3af57490",
    "outputId": "1ceae34c-088e-4b41-d558-35056b75265a"
   },
   "outputs": [
    {
     "data": {
      "text/html": [
       "<div>\n",
       "<style scoped>\n",
       "    .dataframe tbody tr th:only-of-type {\n",
       "        vertical-align: middle;\n",
       "    }\n",
       "\n",
       "    .dataframe tbody tr th {\n",
       "        vertical-align: top;\n",
       "    }\n",
       "\n",
       "    .dataframe thead th {\n",
       "        text-align: right;\n",
       "    }\n",
       "</style>\n",
       "<table border=\"1\" class=\"dataframe\">\n",
       "  <thead>\n",
       "    <tr style=\"text-align: right;\">\n",
       "      <th></th>\n",
       "      <th>InvoiceNo</th>\n",
       "      <th>StockCode</th>\n",
       "      <th>Description</th>\n",
       "      <th>Quantity</th>\n",
       "      <th>InvoiceDate</th>\n",
       "      <th>UnitPrice</th>\n",
       "      <th>CustomerID</th>\n",
       "      <th>Country</th>\n",
       "    </tr>\n",
       "  </thead>\n",
       "  <tbody>\n",
       "    <tr>\n",
       "      <th>0</th>\n",
       "      <td>536365</td>\n",
       "      <td>85123A</td>\n",
       "      <td>WHITE HANGING HEART T-LIGHT HOLDER</td>\n",
       "      <td>6</td>\n",
       "      <td>12/1/2010 8:26</td>\n",
       "      <td>2.55</td>\n",
       "      <td>17850</td>\n",
       "      <td>United Kingdom</td>\n",
       "    </tr>\n",
       "    <tr>\n",
       "      <th>1</th>\n",
       "      <td>536365</td>\n",
       "      <td>71053</td>\n",
       "      <td>WHITE METAL LANTERN</td>\n",
       "      <td>6</td>\n",
       "      <td>12/1/2010 8:26</td>\n",
       "      <td>3.39</td>\n",
       "      <td>17850</td>\n",
       "      <td>United Kingdom</td>\n",
       "    </tr>\n",
       "    <tr>\n",
       "      <th>2</th>\n",
       "      <td>536365</td>\n",
       "      <td>84406B</td>\n",
       "      <td>CREAM CUPID HEARTS COAT HANGER</td>\n",
       "      <td>8</td>\n",
       "      <td>12/1/2010 8:26</td>\n",
       "      <td>2.75</td>\n",
       "      <td>17850</td>\n",
       "      <td>United Kingdom</td>\n",
       "    </tr>\n",
       "    <tr>\n",
       "      <th>3</th>\n",
       "      <td>536365</td>\n",
       "      <td>84029G</td>\n",
       "      <td>KNITTED UNION FLAG HOT WATER BOTTLE</td>\n",
       "      <td>6</td>\n",
       "      <td>12/1/2010 8:26</td>\n",
       "      <td>3.39</td>\n",
       "      <td>17850</td>\n",
       "      <td>United Kingdom</td>\n",
       "    </tr>\n",
       "    <tr>\n",
       "      <th>4</th>\n",
       "      <td>536365</td>\n",
       "      <td>84029E</td>\n",
       "      <td>RED WOOLLY HOTTIE WHITE HEART.</td>\n",
       "      <td>6</td>\n",
       "      <td>12/1/2010 8:26</td>\n",
       "      <td>3.39</td>\n",
       "      <td>17850</td>\n",
       "      <td>United Kingdom</td>\n",
       "    </tr>\n",
       "  </tbody>\n",
       "</table>\n",
       "</div>"
      ],
      "text/plain": [
       "  InvoiceNo StockCode                          Description  Quantity  \\\n",
       "0    536365    85123A   WHITE HANGING HEART T-LIGHT HOLDER         6   \n",
       "1    536365     71053                  WHITE METAL LANTERN         6   \n",
       "2    536365    84406B       CREAM CUPID HEARTS COAT HANGER         8   \n",
       "3    536365    84029G  KNITTED UNION FLAG HOT WATER BOTTLE         6   \n",
       "4    536365    84029E       RED WOOLLY HOTTIE WHITE HEART.         6   \n",
       "\n",
       "      InvoiceDate  UnitPrice  CustomerID         Country  \n",
       "0  12/1/2010 8:26       2.55       17850  United Kingdom  \n",
       "1  12/1/2010 8:26       3.39       17850  United Kingdom  \n",
       "2  12/1/2010 8:26       2.75       17850  United Kingdom  \n",
       "3  12/1/2010 8:26       3.39       17850  United Kingdom  \n",
       "4  12/1/2010 8:26       3.39       17850  United Kingdom  "
      ]
     },
     "execution_count": 14,
     "metadata": {},
     "output_type": "execute_result"
    }
   ],
   "source": [
    "printdf(data)"
   ]
  },
  {
   "cell_type": "markdown",
   "id": "9d93950f-ac9a-408f-93b0-384117765944",
   "metadata": {
    "id": "9d93950f-ac9a-408f-93b0-384117765944"
   },
   "source": [
    "From the dataset above, we need to create multiple customer segments based on each user’s purchase behavior.\n",
    "\n",
    "The variables in this dataset are in a format that cannot be easily ingested into the customer segmentation model. These features individually do not show us much about customer purchase behavior. Therefore, we would use the existing variables to derive three new informative features - recency, frequency, and monetary value (RFM).\n",
    "\n",
    "RFM is commonly used in marketing to evaluate a client’s value based on their:\n",
    "\n",
    "Recency: How recently has each customer made a purchase?\n",
    "Frequency: How often have they bought something?\n",
    "Monetary Value: How much money do they spend on average when making purchases?\n",
    "We will now preprocess the dataframe to create the above variables."
   ]
  },
  {
   "cell_type": "code",
   "execution_count": 15,
   "id": "3dd7a8a4-ba2f-4988-a176-dc7f4f2803ee",
   "metadata": {
    "id": "3dd7a8a4-ba2f-4988-a176-dc7f4f2803ee",
    "outputId": "ddf3409d-5bbc-4c9d-9cab-ae61388b2206"
   },
   "outputs": [
    {
     "data": {
      "text/html": [
       "<div>\n",
       "<style scoped>\n",
       "    .dataframe tbody tr th:only-of-type {\n",
       "        vertical-align: middle;\n",
       "    }\n",
       "\n",
       "    .dataframe tbody tr th {\n",
       "        vertical-align: top;\n",
       "    }\n",
       "\n",
       "    .dataframe thead th {\n",
       "        text-align: right;\n",
       "    }\n",
       "</style>\n",
       "<table border=\"1\" class=\"dataframe\">\n",
       "  <thead>\n",
       "    <tr style=\"text-align: right;\">\n",
       "      <th></th>\n",
       "      <th>InvoiceNo</th>\n",
       "      <th>StockCode</th>\n",
       "      <th>Description</th>\n",
       "      <th>Quantity</th>\n",
       "      <th>InvoiceDate</th>\n",
       "      <th>UnitPrice</th>\n",
       "      <th>CustomerID</th>\n",
       "      <th>Country</th>\n",
       "      <th>TotalAmount</th>\n",
       "    </tr>\n",
       "  </thead>\n",
       "  <tbody>\n",
       "    <tr>\n",
       "      <th>0</th>\n",
       "      <td>536365</td>\n",
       "      <td>85123A</td>\n",
       "      <td>WHITE HANGING HEART T-LIGHT HOLDER</td>\n",
       "      <td>6</td>\n",
       "      <td>2010-12-01</td>\n",
       "      <td>2.55</td>\n",
       "      <td>17850</td>\n",
       "      <td>United Kingdom</td>\n",
       "      <td>15.0</td>\n",
       "    </tr>\n",
       "    <tr>\n",
       "      <th>1</th>\n",
       "      <td>536365</td>\n",
       "      <td>71053</td>\n",
       "      <td>WHITE METAL LANTERN</td>\n",
       "      <td>6</td>\n",
       "      <td>2010-12-01</td>\n",
       "      <td>3.39</td>\n",
       "      <td>17850</td>\n",
       "      <td>United Kingdom</td>\n",
       "      <td>20.0</td>\n",
       "    </tr>\n",
       "    <tr>\n",
       "      <th>2</th>\n",
       "      <td>536365</td>\n",
       "      <td>84406B</td>\n",
       "      <td>CREAM CUPID HEARTS COAT HANGER</td>\n",
       "      <td>8</td>\n",
       "      <td>2010-12-01</td>\n",
       "      <td>2.75</td>\n",
       "      <td>17850</td>\n",
       "      <td>United Kingdom</td>\n",
       "      <td>22.0</td>\n",
       "    </tr>\n",
       "    <tr>\n",
       "      <th>3</th>\n",
       "      <td>536365</td>\n",
       "      <td>84029G</td>\n",
       "      <td>KNITTED UNION FLAG HOT WATER BOTTLE</td>\n",
       "      <td>6</td>\n",
       "      <td>2010-12-01</td>\n",
       "      <td>3.39</td>\n",
       "      <td>17850</td>\n",
       "      <td>United Kingdom</td>\n",
       "      <td>20.0</td>\n",
       "    </tr>\n",
       "    <tr>\n",
       "      <th>4</th>\n",
       "      <td>536365</td>\n",
       "      <td>84029E</td>\n",
       "      <td>RED WOOLLY HOTTIE WHITE HEART.</td>\n",
       "      <td>6</td>\n",
       "      <td>2010-12-01</td>\n",
       "      <td>3.39</td>\n",
       "      <td>17850</td>\n",
       "      <td>United Kingdom</td>\n",
       "      <td>20.0</td>\n",
       "    </tr>\n",
       "  </tbody>\n",
       "</table>\n",
       "</div>"
      ],
      "text/plain": [
       "  InvoiceNo StockCode                          Description  Quantity  \\\n",
       "0    536365    85123A   WHITE HANGING HEART T-LIGHT HOLDER         6   \n",
       "1    536365     71053                  WHITE METAL LANTERN         6   \n",
       "2    536365    84406B       CREAM CUPID HEARTS COAT HANGER         8   \n",
       "3    536365    84029G  KNITTED UNION FLAG HOT WATER BOTTLE         6   \n",
       "4    536365    84029E       RED WOOLLY HOTTIE WHITE HEART.         6   \n",
       "\n",
       "  InvoiceDate  UnitPrice  CustomerID         Country  TotalAmount  \n",
       "0  2010-12-01       2.55       17850  United Kingdom         15.0  \n",
       "1  2010-12-01       3.39       17850  United Kingdom         20.0  \n",
       "2  2010-12-01       2.75       17850  United Kingdom         22.0  \n",
       "3  2010-12-01       3.39       17850  United Kingdom         20.0  \n",
       "4  2010-12-01       3.39       17850  United Kingdom         20.0  "
      ]
     },
     "execution_count": 15,
     "metadata": {},
     "output_type": "execute_result"
    }
   ],
   "source": [
    "# We will choose some suitable variables for RFM model:\n",
    "spark.sql(\"set spark.sql.legacy.timeParserPolicy=LEGACY\")\n",
    "\n",
    "#Select the Quantity column with value > 0 to get the positive value\n",
    "rtl_data = rtl_data.filter(F.col(\"Quantity\") > 0)\n",
    "\n",
    "#Calculate the TotalAmount by multiple Quantity with UnitPrice, serve for calculating Monetary value\n",
    "rtl_data = rtl_data.withColumn(\"TotalAmount\", F.round(F.col(\"Quantity\") * F.col(\"UnitPrice\")))\n",
    "\n",
    "#Change the InvoiceDate column from datetime type to date type\n",
    "rtl_data = rtl_data.withColumn(\"InvoiceDate\",\n",
    "                               F.to_date(F.col(\"InvoiceDate\"), 'MM/dd/yyyy'))\n",
    "printdf(rtl_data)"
   ]
  },
  {
   "cell_type": "code",
   "execution_count": 16,
   "id": "33035dd0-1a51-415f-bf5a-9de15d1543a3",
   "metadata": {
    "id": "33035dd0-1a51-415f-bf5a-9de15d1543a3",
    "outputId": "81030e22-1253-487a-95eb-b369c4bb5051"
   },
   "outputs": [
    {
     "name": "stdout",
     "output_type": "stream",
     "text": [
      "2010-12-01\n",
      "2011-12-09\n"
     ]
    }
   ],
   "source": [
    "#Check the earliest/latest time that customers go shopping:\n",
    "df = rtl_data.toPandas()\n",
    "\n",
    "print(df.InvoiceDate.min())\n",
    "print(df.InvoiceDate.max())"
   ]
  },
  {
   "cell_type": "code",
   "execution_count": 17,
   "id": "ca31f334-0427-4492-b26a-83ebb2c77599",
   "metadata": {
    "id": "ca31f334-0427-4492-b26a-83ebb2c77599",
    "outputId": "32828bc1-02c7-4295-a451-48caf0d34c9c"
   },
   "outputs": [
    {
     "data": {
      "text/plain": [
       "[Row(max(InvoiceDate)=datetime.date(2011, 12, 9))]"
      ]
     },
     "execution_count": 17,
     "metadata": {},
     "output_type": "execute_result"
    }
   ],
   "source": [
    "rtl_data.select(F.max('InvoiceDate')).collect()"
   ]
  },
  {
   "cell_type": "code",
   "execution_count": 18,
   "id": "93ab9d9e-d554-4213-9874-993d1b08d0ea",
   "metadata": {
    "id": "93ab9d9e-d554-4213-9874-993d1b08d0ea"
   },
   "outputs": [],
   "source": [
    "#Build the RFM model:\n",
    "latest_date = F.to_date(F.lit(\"2011/12/10\"), 'yyyy/MM/dd')\n",
    "rfm_scores = (rtl_data.groupBy(\"CustomerID\")\n",
    "              .agg((F.datediff(latest_date, F.max(F.col(\"InvoiceDate\")))).alias(\"Recency\"),\n",
    "                   F.count(\"*\").alias(\"Frequency\"),\n",
    "                   F.sum(F.col(\"TotalAmount\")).alias(\"Monetary\")).sort(\"CustomerID\"))"
   ]
  },
  {
   "cell_type": "code",
   "execution_count": 19,
   "id": "ba9a991c-ac07-4f8c-966c-d62bdda14046",
   "metadata": {
    "id": "ba9a991c-ac07-4f8c-966c-d62bdda14046"
   },
   "outputs": [],
   "source": [
    "rfm_scores = (\n",
    "    rfm_scores.withColumn(\n",
    "        \"Monetary\",\n",
    "        F.when(F.col(\"Monetary\") <= 0, 1)\n",
    "         .otherwise(F.col(\"Monetary\")))\n",
    ")"
   ]
  },
  {
   "cell_type": "code",
   "execution_count": 20,
   "id": "0156c72f-d6e0-4c41-af4f-cb5c567c874c",
   "metadata": {
    "id": "0156c72f-d6e0-4c41-af4f-cb5c567c874c",
    "outputId": "3431f83c-a90d-44bd-affa-588217e6da56",
    "scrolled": true
   },
   "outputs": [
    {
     "data": {
      "text/html": [
       "<div>\n",
       "<style scoped>\n",
       "    .dataframe tbody tr th:only-of-type {\n",
       "        vertical-align: middle;\n",
       "    }\n",
       "\n",
       "    .dataframe tbody tr th {\n",
       "        vertical-align: top;\n",
       "    }\n",
       "\n",
       "    .dataframe thead th {\n",
       "        text-align: right;\n",
       "    }\n",
       "</style>\n",
       "<table border=\"1\" class=\"dataframe\">\n",
       "  <thead>\n",
       "    <tr style=\"text-align: right;\">\n",
       "      <th></th>\n",
       "      <th>CustomerID</th>\n",
       "      <th>Recency</th>\n",
       "      <th>Frequency</th>\n",
       "      <th>Monetary</th>\n",
       "    </tr>\n",
       "  </thead>\n",
       "  <tbody>\n",
       "    <tr>\n",
       "      <th>0</th>\n",
       "      <td>12346</td>\n",
       "      <td>326</td>\n",
       "      <td>1</td>\n",
       "      <td>77184.0</td>\n",
       "    </tr>\n",
       "    <tr>\n",
       "      <th>1</th>\n",
       "      <td>12747</td>\n",
       "      <td>3</td>\n",
       "      <td>103</td>\n",
       "      <td>4207.0</td>\n",
       "    </tr>\n",
       "    <tr>\n",
       "      <th>2</th>\n",
       "      <td>12748</td>\n",
       "      <td>1</td>\n",
       "      <td>4596</td>\n",
       "      <td>33956.0</td>\n",
       "    </tr>\n",
       "    <tr>\n",
       "      <th>3</th>\n",
       "      <td>12749</td>\n",
       "      <td>4</td>\n",
       "      <td>199</td>\n",
       "      <td>4115.0</td>\n",
       "    </tr>\n",
       "    <tr>\n",
       "      <th>4</th>\n",
       "      <td>12820</td>\n",
       "      <td>4</td>\n",
       "      <td>59</td>\n",
       "      <td>946.0</td>\n",
       "    </tr>\n",
       "  </tbody>\n",
       "</table>\n",
       "</div>"
      ],
      "text/plain": [
       "   CustomerID  Recency  Frequency  Monetary\n",
       "0       12346      326          1   77184.0\n",
       "1       12747        3        103    4207.0\n",
       "2       12748        1       4596   33956.0\n",
       "3       12749        4        199    4115.0\n",
       "4       12820        4         59     946.0"
      ]
     },
     "execution_count": 20,
     "metadata": {},
     "output_type": "execute_result"
    }
   ],
   "source": [
    "printdf(rfm_scores)"
   ]
  },
  {
   "cell_type": "markdown",
   "id": "734c37b7-50f0-441a-a6e8-ae959798c4c4",
   "metadata": {
    "id": "734c37b7-50f0-441a-a6e8-ae959798c4c4"
   },
   "source": [
    "### Standardization\n",
    "\n",
    "Before building the customer segmentation model, let’s standardize the dataframe to ensure that all the variables are around the same scale:"
   ]
  },
  {
   "cell_type": "code",
   "execution_count": 21,
   "id": "89e0819f-4a18-4bab-ad5f-a52cda5c3a0f",
   "metadata": {
    "id": "89e0819f-4a18-4bab-ad5f-a52cda5c3a0f"
   },
   "outputs": [],
   "source": [
    "from pyspark.ml.feature import VectorAssembler\n",
    "from pyspark.ml.feature import StandardScaler\n",
    "\n",
    "assemble=VectorAssembler(inputCols=[\n",
    "    'Recency','Frequency','Monetary'\n",
    "], outputCol='features')\n",
    "\n",
    "assembled_data=assemble.transform(rfm_scores)\n",
    "\n",
    "scale=StandardScaler(inputCol='features',outputCol='standardized')\n",
    "data_scale=scale.fit(assembled_data)\n",
    "data_scale_output=data_scale.transform(assembled_data)"
   ]
  },
  {
   "cell_type": "code",
   "execution_count": 22,
   "id": "4708a3af-1822-4070-933d-990e978949c9",
   "metadata": {
    "id": "4708a3af-1822-4070-933d-990e978949c9",
    "outputId": "6e60b6c7-5e98-43e2-e660-530b81d62c0d"
   },
   "outputs": [
    {
     "name": "stdout",
     "output_type": "stream",
     "text": [
      "+------------------------------------------------------------+\n",
      "|standardized                                                |\n",
      "+------------------------------------------------------------+\n",
      "|[3.275442659272144,0.004591449287274264,10.311538193755748] |\n",
      "|[0.030142110361400097,0.4729192765892492,0.5620418892663044]|\n",
      "+------------------------------------------------------------+\n",
      "only showing top 2 rows\n",
      "\n"
     ]
    }
   ],
   "source": [
    "data_scale_output.select('standardized').show(2,truncate=False)"
   ]
  },
  {
   "cell_type": "markdown",
   "id": "c73070f3-9f7d-4da0-bf3a-565a2f0a1b48",
   "metadata": {
    "id": "c73070f3-9f7d-4da0-bf3a-565a2f0a1b48"
   },
   "source": [
    "## 5. Building the K-Means Clustering model:"
   ]
  },
  {
   "cell_type": "markdown",
   "id": "d80eba70-da86-4e7d-8a3a-33d935d9bb93",
   "metadata": {
    "id": "d80eba70-da86-4e7d-8a3a-33d935d9bb93"
   },
   "source": [
    "Now that we have completed all the data analysis and preparation, let’s build the K-Means clustering model.\n",
    "\n",
    "The algorithm would be created using PySpark’s machine learning API."
   ]
  },
  {
   "cell_type": "code",
   "execution_count": 23,
   "id": "21b78c42-3315-4bdf-8133-3edca0a27e10",
   "metadata": {
    "id": "21b78c42-3315-4bdf-8133-3edca0a27e10"
   },
   "outputs": [
    {
     "name": "stdout",
     "output_type": "stream",
     "text": [
      "{2: 8664.375555530716, 3: 6244.490884233162, 4: 4286.382220078873, 5: 2852.739038716347, 6: 2155.2733360510906, 7: 1749.4905350729814, 8: 1483.302929888946, 9: 1327.4070977449144}\n"
     ]
    }
   ],
   "source": [
    "from pyspark.ml.clustering import KMeans\n",
    "from pyspark.ml.evaluation import ClusteringEvaluator\n",
    "import numpy as np\n",
    "\n",
    "seed = 20\n",
    "\n",
    "costs = {}\n",
    "\n",
    "for k in range(2, 10):\n",
    "    min_cost = float('inf')\n",
    "    kmeans = KMeans(featuresCol='standardized', k=k, seed=seed, initSteps=5, maxIter=100, initMode='k-means||')\n",
    "    model = kmeans.fit(data_scale_output)\n",
    "    cost = model.summary.trainingCost\n",
    "    if cost < min_cost:\n",
    "        min_cost = cost\n",
    "    costs[k] = min_cost\n",
    "\n",
    "print(costs)"
   ]
  },
  {
   "cell_type": "code",
   "execution_count": 24,
   "id": "0ad651f8-f31e-4f11-a01d-b6279ccf65a8",
   "metadata": {
    "id": "0ad651f8-f31e-4f11-a01d-b6279ccf65a8",
    "outputId": "287f0410-7456-45f1-d989-a6550b8239c4"
   },
   "outputs": [
    {
     "data": {
      "image/png": "[encoded data removed]",
      "text/plain": [
       "<Figure size 640x480 with 1 Axes>"
      ]
     },
     "metadata": {},
     "output_type": "display_data"
    }
   ],
   "source": [
    "k_values = list(costs.keys())\n",
    "cost_values = list(costs.values())\n",
    "\n",
    "plt.plot(k_values, cost_values, marker='o')\n",
    "plt.xlabel('K')\n",
    "plt.ylabel('Cost')\n",
    "plt.title('Elbow Method')\n",
    "plt.show()"
   ]
  },
  {
   "cell_type": "code",
   "execution_count": 25,
   "id": "db97600c-7086-4545-8d60-e9e85275954e",
   "metadata": {
    "id": "db97600c-7086-4545-8d60-e9e85275954e"
   },
   "outputs": [],
   "source": [
    "#Based on the plotted graph, we observe a distinct bend or \"elbow\" at the value of four.\n",
    "#This suggests that there's a point of diminishing returns or significant change in the data's behavior around that cluster count.\n",
    "#Consequently, we'll move forward with constructing the K-Means algorithm using four clusters.\n",
    "KMeans_algo = KMeans(featuresCol='standardized', k=4, seed=seed)\n",
    "KMeans_fit = KMeans_algo.fit(data_scale_output)"
   ]
  },
  {
   "cell_type": "code",
   "execution_count": 26,
   "id": "c35f4952-32fa-4057-ac7a-c6d17b6ace10",
   "metadata": {
    "id": "c35f4952-32fa-4057-ac7a-c6d17b6ace10",
    "outputId": "fa47734b-5cec-4d87-88a4-93dd59089568",
    "scrolled": true
   },
   "outputs": [
    {
     "name": "stdout",
     "output_type": "stream",
     "text": [
      "+----------+-------+---------+--------+--------------------+-------------------------------------------------------------+----------+\n",
      "|CustomerID|Recency|Frequency|Monetary|features            |standardized                                                 |prediction|\n",
      "+----------+-------+---------+--------+--------------------+-------------------------------------------------------------+----------+\n",
      "|12346     |326    |1        |77184.0 |[326.0,1.0,77184.0] |[3.275442659272144,0.004591449287274264,10.311538193755748]  |3         |\n",
      "|12747     |3      |103      |4207.0  |[3.0,103.0,4207.0]  |[0.030142110361400097,0.4729192765892492,0.5620418892663044] |0         |\n",
      "|12748     |1      |4596     |33956.0 |[1.0,4596.0,33956.0]|[0.010047370120466699,21.10230092431252,4.536414164945716]   |2         |\n",
      "|12749     |4      |199      |4115.0  |[4.0,199.0,4115.0]  |[0.040189480481866796,0.9136984081675786,0.5497509803496179] |0         |\n",
      "|12820     |4      |59       |946.0   |[4.0,59.0,946.0]    |[0.040189480481866796,0.2708955079491816,0.12638260690418918]|0         |\n",
      "+----------+-------+---------+--------+--------------------+-------------------------------------------------------------+----------+\n",
      "only showing top 5 rows\n",
      "\n"
     ]
    }
   ],
   "source": [
    "preds=KMeans_fit.transform(data_scale_output)\n",
    "\n",
    "preds.show(5,0)"
   ]
  },
  {
   "cell_type": "markdown",
   "id": "ca51bb6e-b9ea-4dc6-b05b-347a2ff2da0b",
   "metadata": {
    "id": "ca51bb6e-b9ea-4dc6-b05b-347a2ff2da0b"
   },
   "source": [
    "## 6. Data Visualization and Insights:"
   ]
  },
  {
   "cell_type": "markdown",
   "id": "2c54a75c-2c84-40f8-a74c-258bb7e6cd9a",
   "metadata": {
    "id": "2c54a75c-2c84-40f8-a74c-258bb7e6cd9a"
   },
   "source": [
    "The goal of these scatter plots and column charts is to visualize the distribution of customers in terms of their Recency, Frequency, and Monetary values, and to see how these customers are grouped into different clusters based on the 'prediction' column."
   ]
  },
  {
   "cell_type": "code",
   "execution_count": 27,
   "id": "43cd4240-5526-452f-b307-5fbd0462d3ff",
   "metadata": {
    "id": "43cd4240-5526-452f-b307-5fbd0462d3ff",
    "outputId": "39997ff7-ee2f-4c19-c506-89e75b6ef0ea"
   },
   "outputs": [
    {
     "data": {
      "image/png": "[encoded data removed]",
      "text/plain": [
       "<Figure size 800x600 with 1 Axes>"
      ]
     },
     "metadata": {},
     "output_type": "display_data"
    },
    {
     "data": {
      "image/png": "[encoded data removed]",
      "text/plain": [
       "<Figure size 800x600 with 1 Axes>"
      ]
     },
     "metadata": {},
     "output_type": "display_data"
    },
    {
     "data": {
      "image/png": "[encoded data removed]",
      "text/plain": [
       "<Figure size 800x600 with 1 Axes>"
      ]
     },
     "metadata": {},
     "output_type": "display_data"
    }
   ],
   "source": [
    "#To see the results more clearly, we will use column charts:\n",
    "#The results from these charts will help us get and show insights below:\n",
    "import matplotlib.pyplot as plt\n",
    "\n",
    "preds_data = preds.select('CustomerID', 'Recency', 'Frequency', 'Monetary', 'prediction').toPandas()\n",
    "\n",
    "colors = ['r', 'g', 'b', 'y']\n",
    "\n",
    "attributes = ['Recency', 'Frequency', 'Monetary']\n",
    "\n",
    "#The code you provided generates bar plots to visualize the average values of specific attributes for each cluster.\n",
    "#Each bar plot represents the mean value of a particular attribute (e.g., Recency, Frequency, Monetary) for the four clusters.\n",
    "for attribute in attributes:\n",
    "    plt.figure(figsize=(8, 6))\n",
    "    for cluster in range(4):\n",
    "        cluster_data = preds_data[preds_data['prediction'] == cluster]\n",
    "        cluster_attribute_mean = cluster_data[attribute].mean()\n",
    "        plt.bar(cluster, cluster_attribute_mean, color=colors[cluster], label=f'Cluster {cluster}')\n",
    "    plt.ylabel(attribute)\n",
    "    plt.xticks(range(4), ['Cluster 0', 'Cluster 1', 'Cluster 2', 'Cluster 3'])\n",
    "    plt.legend()\n",
    "    plt.show()"
   ]
  },
  {
   "cell_type": "markdown",
   "id": "3fb880d0-2a34-4053-adbc-9b6fae784f12",
   "metadata": {},
   "source": [
    "Some insights about these specific clusters:\n",
    "- Cluster 0: Customers with medium recency, low frequency, and low monetary value are those who have made a purchase somewhat recently but do so infrequently and spend relatively little each time. This segment might represent occasional or casual buyers who have shown some recent interest in your offerings but aren't deeply engaged.\n",
    "- Cluster 1: In this cluster, customers who show high recency, do not visit the site often and have low monetary value. This indicates that although these customers have shown recent interest to buy products, their overall engagement is low and they do not contribute significantly to revenue.\n",
    "- Cluster 2: These customers show low recency, very high frequency and high monetary. This suggests that these customers were highly engaged and valuable but have not interacted with the site recently. They might be prime candidates for re-engagement campaigns to bring them back to the site.\n",
    "- Cluster 3: This segment comprises users who show medium recency and medium frequency but purchase on the platform with high monetary value. This indicates that they tend to buy high-value items or make bulk purchases. They may not be as engaged or loyal as other segments, but their high monetary value shows that this is an important customer segment to target and retain and improve our service to suit this cluster"
   ]
  },
  {
   "cell_type": "markdown",
   "id": "b6ec8efa-3a6c-44a4-b525-1fbfde053000",
   "metadata": {
    "id": "b6ec8efa-3a6c-44a4-b525-1fbfde053000"
   },
   "source": [
    "After doing the RFM Analysis, we can propose an allocation of cost percentages plan to each cluster. For this example, let's assume a total cost allocation of 100%.\n",
    "\n",
    "- Cluster 0 (Medium Recency, Low Frequency, Low Monetary Value): Allocate 5-10% of cost to this cluster\n",
    "\n",
    "\n",
    "While these customers may not contribute significantly to revenue, a small portion of the budget is allocated to re-engage them and prevent further attrition\n",
    "\n",
    "Activities for this cluster: Focus on improving customer engagement and increasing the average order value.\n",
    "Implement strategies to encourage repeat purchases, such as offering loyalty programs, personalized recommendations, or targeted promotions based on past purchase behavior.\n",
    "Enhance the user experience on the website to make it easier for customers to find products and complete purchases.\n",
    "Consider bundling products or offering discounts for bulk purchases to incentivize higher spending\n",
    "\n",
    "- Cluster 1 (High Recency, Very Low Frequency, Very Low Monetary Value): Allocate 10-15% of cost to this cluster.\n",
    "\n",
    "Since these customers spend relatively little and infrequently, a smaller portion of the budget is allocated to encourage them to increase their spending.\n",
    "\n",
    "Activities for this cluster: Invest in strategies to increase customer engagement and retention.\n",
    "Develop personalized marketing campaigns to re-engage customers who have shown recent interest but haven't made frequent purchases.\n",
    "Offer incentives such as exclusive discounts, freebies, or referral programs to encourage these customers to visit the site more often and make purchases.\n",
    "Improve the overall customer experience to make it more compelling for them to return, such as optimizing website performance, providing excellent customer service, and streamlining the checkout process.\n",
    "\n",
    "\n",
    "- Cluster 2 (Low Recency, High Frequency, Medium Monetary Value): Allocate 30-35% of cost to this cluster\n",
    ".\n",
    "These engaged customers represent potential for increased spending, so a moderate portion of the budget is allocated to maintain their loyalty and encourage further purchases\n",
    "\n",
    "Activities for this cluster: Launch targeted re-engagement campaigns to bring back these valuable customers who have previously shown high engagement and spending.\n",
    "Use data-driven insights to identify the reasons for their decreased interaction with the site and tailor offers or incentives to address their specific needs or preferences.\n",
    "Leverage email marketing, social media, and personalized messaging to reconnect with these customers and remind them of the value proposition of your products or services.\n",
    "Consider offering exclusive deals or perks to incentivize their return, such as limited-time promotions or VIP access to new products or events.\n",
    "\n",
    "\n",
    "- Cluster 3 (Medium Recency, Medium Frequency, High Monetary Value): Allocate 35-40% of cost to this cluster\n",
    "\n",
    "\n",
    "These high-value customers represent a significant portion of revenue, so a larger portion of the budget is allocated to maintain their loyalty and encourage continued high-value transactions\n",
    "\n",
    "\n",
    "These percentages are just rough estimates and can vary based on factors such as the size of each cluster, the potential for growth, and the company's overall revenue goal\n",
    "\n",
    "Activities for this cluster: Prioritize customer satisfaction and retention strategies to capitalize on the high monetary value of this segment.\n",
    "Offer personalized services or incentives to enhance their loyalty and encourage repeat purchases, such as dedicated account managers, priority support, or exclusive access to premium content or events.\n",
    "Collect feedback regularly to understand their evolving needs and preferences and adapt your offerings accordingly.\n",
    "Explore opportunities for upselling or cross-selling to maximize the lifetime value of these customers, such as recommending complementary products or services based on their past purchases.\n"
   ]
  },
  {
   "cell_type": "markdown",
   "id": "747a4504",
   "metadata": {
    "id": "747a4504"
   },
   "source": [
    "# III. Conclusion"
   ]
  },
  {
   "cell_type": "markdown",
   "id": "ea2d3a44",
   "metadata": {},
   "source": [
    "In conclusion, gaining a comprehensive understanding of the components within a firm, particularly its customers, is paramount for strategic success. In this project, businesses have been equipped with invaluable insights into their customer base through the implementation of the RFM model and the utilization of the K-means clustering algorithm with the Elbow method. The application of these models and algorithms in the project has not only provided businesses with a deeper understanding of their customers' characteristics, behaviors, and demographics but has also enabled them to identify distinct customer segments based on transaction data, thereby tailoring their strategies to meet the specific needs and preferences of each segment.\n",
    "\n",
    "By leveraging these insights and the specific recommendations above, businesses can build targeted marketing campaigns, personalized product recommendations, and optimized pricing strategies, ultimately leading to enhanced customer satisfaction, increased sales, and improved competitiveness. Therefore, the integration of RFM techniques and clustering algorithms has proven to be instrumental in enabling businesses to develop highly effective and tailored strategies, driving sustainable growth and success in today's dynamic business landscape. We hope that the above experimental results provide businesses with further ideas and suggestions for developing their businesses. \n"
   ]
  }
 ],
 "metadata": {
  "colab": {
   "provenance": [],
   "toc_visible": true
  },
  "kernelspec": {
   "display_name": "Python 3 (ipykernel)",
   "language": "python",
   "name": "python3"
  },
  "language_info": {
   "codemirror_mode": {
    "name": "ipython",
    "version": 3
   },
   "file_extension": ".py",
   "mimetype": "text/x-python",
   "name": "python",
   "nbconvert_exporter": "python",
   "pygments_lexer": "ipython3",
   "version": "3.11.5"
  }
 },
 "nbformat": 4,
 "nbformat_minor": 5
}
